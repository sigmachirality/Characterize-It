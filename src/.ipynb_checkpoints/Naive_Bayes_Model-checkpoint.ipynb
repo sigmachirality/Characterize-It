{
 "cells": [
  {
   "cell_type": "code",
   "execution_count": 23,
   "metadata": {
    "collapsed": false
   },
   "outputs": [
    {
     "name": "stdout",
     "output_type": "stream",
     "text": [
      "([['Anger', 'Stoicism', 'Strength', 'Feirce', 'Tenacious', 'Bold', 'Clawed', 'Strong', 'Invincible'], ['excitement', 'awe', 'inspiration', 'powerful', 'noble', 'strong', 'beared', 'muscular', 'armed'], ['excitement', 'awe', 'happiness', 'powerful', 'bold', 'fierce', 'rock-like', 'large', 'orange'], ['angry', 'upset', 'displeased', 'aggressive', 'violent', 'assertive', 'buff', 'stony', 'strong'], ['thoughtful', 'knowing', 'old', 'smart', 'wise', 'stretchy', 'creepy', 'old', 'bearded']], ['Neutral Characters', 'Good Characters', 'Good Characters', 'Good Characters', 'Good Characters'])\n",
      "['Anger', 'Stoicism', 'Strength', 'Feirce', 'Tenacious']\n"
     ]
    }
   ],
   "source": [
    "#Parse data\n",
    "import pandas as pd\n",
    "import sys\n",
    "import csv\n",
    "\n",
    "def download_corpus(infile):\n",
    "\n",
    "    # read in input file, adjective dictionary\n",
    "    inp = pd.read_csv(infile)\n",
    "    #adj_dictionary = pd.read_csv(\"adj.txt\", names=['adj'])['adj'].tolist()\n",
    "    #dictionary = [x.lower() for x in adj_dictionary if x == x]\n",
    "    original = pd.read_csv(\"../data/scraped/marvel-wikia-data-images.csv\")\n",
    "    character_dict = {}\n",
    "    X_train = []\n",
    "    y_train = []\n",
    "    for _, row in original.iterrows():\n",
    "        character_dict[row[\"imgurl\"]] = row\n",
    "    for _, row in inp.iterrows():\n",
    "        if row[\"Input.image_url\"] in character_dict:\n",
    "            X_item = row[[\"Answer.emot0\", \"Answer.emot1\", \"Answer.emot2\", \"Answer.pers0\", \"Answer.pers1\", \"Answer.pers2\", \"Answer.phys0\", \"Answer.phys1\", \"Answer.phys2\"]]\n",
    "            X_train.append(X_item.tolist())\n",
    "            y_train.append(character_dict[row[\"Input.image_url\"]][\"ALIGN\"])\n",
    "            #print(character_dict[row[\"Input.image_url\"]])\n",
    "            \n",
    "        #print row\n",
    "    return X_train, y_train\n",
    "X_train, y_train = download_corpus(\"../data/results/4_28-sandbox-batch-results.csv\")\n",
    "print(X_train[0:5], y_train[0:5])\n",
    "corpus = [i for sublist in X_train for i in sublist]\n",
    "print(corpus[0:5])"
   ]
  },
  {
   "cell_type": "code",
   "execution_count": 4,
   "metadata": {
    "collapsed": true
   },
   "outputs": [],
   "source": [
    "from sklearn.feature_extraction.text import CountVectorizer"
   ]
  },
  {
   "cell_type": "code",
   "execution_count": 36,
   "metadata": {
    "collapsed": false
   },
   "outputs": [
    {
     "data": {
      "text/plain": [
       "CountVectorizer(analyzer=u'word', binary=False, decode_error=u'strict',\n",
       "        dtype=<type 'numpy.int64'>, encoding=u'utf-8', input=u'content',\n",
       "        lowercase=True, max_df=1.0, max_features=None, min_df=1,\n",
       "        ngram_range=(1, 1), preprocessor=None, stop_words=None,\n",
       "        strip_accents=None, token_pattern=u'(?u)\\\\b\\\\w\\\\w+\\\\b',\n",
       "        tokenizer=None, vocabulary=None)"
      ]
     },
     "execution_count": 36,
     "metadata": {},
     "output_type": "execute_result"
    }
   ],
   "source": [
    "X_train_sentence = []\n",
    "for item in X_train:\n",
    "    X_row = \"\"\n",
    "    for i in item:\n",
    "        X_row += \" \" + i + \" \"\n",
    "    X_train_sentence.append(X_row)\n",
    "vectorizer = CountVectorizer()\n",
    "model = vectorizer.fit(X_train_sentence)"
   ]
  },
  {
   "cell_type": "code",
   "execution_count": 40,
   "metadata": {
    "collapsed": false
   },
   "outputs": [
    {
     "name": "stdout",
     "output_type": "stream",
     "text": [
      "[[0 0 0 ... 0 0 0]\n",
      " [0 0 0 ... 0 0 0]\n",
      " [0 0 0 ... 0 0 0]\n",
      " ...\n",
      " [0 0 0 ... 0 0 0]\n",
      " [0 0 0 ... 0 0 0]\n",
      " [0 0 0 ... 0 0 0]]\n"
     ]
    }
   ],
   "source": [
    "#print(X_train_sentence[0])\n",
    "X_train_converted = model.transform(X_train_sentence)\n"
   ]
  },
  {
   "cell_type": "code",
   "execution_count": 41,
   "metadata": {
    "collapsed": false
   },
   "outputs": [
    {
     "data": {
      "text/plain": [
       "MultinomialNB(alpha=1.0, class_prior=None, fit_prior=True)"
      ]
     },
     "execution_count": 41,
     "metadata": {},
     "output_type": "execute_result"
    }
   ],
   "source": [
    "from sklearn.naive_bayes import MultinomialNB\n",
    "clf = MultinomialNB()\n",
    "\n",
    "clf.fit(X_train_converted, y_train)"
   ]
  },
  {
   "cell_type": "code",
   "execution_count": 42,
   "metadata": {
    "collapsed": false
   },
   "outputs": [
    {
     "data": {
      "text/plain": [
       "0.926829268292683"
      ]
     },
     "execution_count": 42,
     "metadata": {},
     "output_type": "execute_result"
    }
   ],
   "source": [
    "y_pred = clf.predict(X_train_converted)\n",
    "from sklearn.metrics import accuracy_score\n",
    "accuracy_score(y_train, y_pred)"
   ]
  },
  {
   "cell_type": "code",
   "execution_count": 45,
   "metadata": {
    "collapsed": false
   },
   "outputs": [
    {
     "name": "stdout",
     "output_type": "stream",
     "text": [
      "Accuracy: 0.65 (+/- 0.02)\n",
      "['Neutral Characters' 'Good Characters' 'Good Characters'\n",
      " 'Good Characters' 'Good Characters' 'Good Characters' 'Good Characters'\n",
      " 'Good Characters' 'Good Characters' 'Good Characters' 'Good Characters'\n",
      " 'Good Characters' 'Good Characters' 'Good Characters' 'Good Characters'\n",
      " 'Good Characters' 'Good Characters' 'Good Characters' 'Good Characters'\n",
      " 'Good Characters' 'Good Characters' 'Good Characters' 'Good Characters'\n",
      " 'Good Characters' 'Good Characters' 'Neutral Characters'\n",
      " 'Good Characters' 'Good Characters' 'Good Characters' 'Good Characters'\n",
      " 'Good Characters' 'Good Characters' 'Good Characters' 'Good Characters'\n",
      " 'Good Characters' 'Good Characters' 'Good Characters' 'Good Characters'\n",
      " 'Good Characters' 'Good Characters' 'Good Characters' 'Good Characters'\n",
      " 'Good Characters' 'Good Characters' 'Good Characters' 'Good Characters'\n",
      " 'Good Characters' 'Good Characters' 'Good Characters' 'Good Characters'\n",
      " 'Good Characters' 'Good Characters' 'Good Characters' 'Good Characters'\n",
      " 'Good Characters' 'Good Characters' 'Good Characters' 'Good Characters'\n",
      " 'Good Characters' 'Good Characters' 'Good Characters' 'Good Characters'\n",
      " 'Good Characters' 'Neutral Characters' 'Good Characters'\n",
      " 'Good Characters' 'Good Characters' 'Neutral Characters'\n",
      " 'Good Characters' 'Good Characters' 'Good Characters' 'Good Characters'\n",
      " 'Good Characters' 'Good Characters' 'Good Characters' 'Good Characters'\n",
      " 'Good Characters' 'Good Characters' 'Good Characters' 'Good Characters'\n",
      " 'Good Characters' 'Good Characters' 'Good Characters' 'Good Characters'\n",
      " 'Good Characters' 'Good Characters' 'Good Characters' 'Good Characters'\n",
      " 'Good Characters' 'Neutral Characters' 'Good Characters'\n",
      " 'Good Characters' 'Good Characters' 'Good Characters'\n",
      " 'Neutral Characters' 'Neutral Characters' 'Neutral Characters'\n",
      " 'Good Characters' 'Good Characters' 'Good Characters'\n",
      " 'Neutral Characters' 'Neutral Characters' 'Neutral Characters'\n",
      " 'Good Characters' 'Good Characters' 'Good Characters'\n",
      " 'Neutral Characters' 'Neutral Characters' 'Neutral Characters'\n",
      " 'Good Characters' 'Good Characters' 'Good Characters' 'Good Characters'\n",
      " 'Neutral Characters' 'Good Characters' 'Good Characters'\n",
      " 'Good Characters' 'Good Characters' 'Neutral Characters'\n",
      " 'Neutral Characters' 'Neutral Characters' 'Good Characters'\n",
      " 'Good Characters' 'Good Characters' 'Good Characters' 'Bad Characters'\n",
      " 'Bad Characters' 'Good Characters' 'Good Characters' 'Neutral Characters'\n",
      " 'Good Characters' 'Neutral Characters' 'Neutral Characters'\n",
      " 'Good Characters' 'Good Characters' 'Good Characters' 'Bad Characters'\n",
      " 'Bad Characters' 'Bad Characters' 'Good Characters' 'Good Characters'\n",
      " 'Good Characters' 'Good Characters' 'Good Characters' 'Good Characters'\n",
      " 'Neutral Characters' 'Good Characters' 'Neutral Characters'\n",
      " 'Good Characters' 'Good Characters' 'Good Characters' 'Good Characters'\n",
      " 'Good Characters' 'Good Characters' 'Good Characters' 'Good Characters'\n",
      " 'Good Characters' 'Good Characters' 'Good Characters' 'Good Characters'\n",
      " 'Neutral Characters' 'Neutral Characters' 'Neutral Characters'\n",
      " 'Good Characters' 'Good Characters' 'Good Characters' 'Good Characters'\n",
      " 'Good Characters' 'Good Characters' 'Bad Characters' 'Good Characters'\n",
      " 'Bad Characters' 'Good Characters' 'Good Characters' 'Good Characters'\n",
      " 'Good Characters' 'Good Characters' 'Good Characters' 'Good Characters'\n",
      " 'Neutral Characters' 'nan' 'Good Characters' 'Good Characters'\n",
      " 'Good Characters' 'Neutral Characters' 'Neutral Characters'\n",
      " 'Good Characters' 'Good Characters' 'Good Characters' 'Good Characters'\n",
      " 'Good Characters' 'Good Characters' 'Good Characters' 'Good Characters'\n",
      " 'Good Characters' 'Good Characters' 'Bad Characters' 'Bad Characters'\n",
      " 'Bad Characters' 'Neutral Characters' 'Neutral Characters'\n",
      " 'Neutral Characters' 'Good Characters' 'Good Characters'\n",
      " 'Good Characters']\n"
     ]
    }
   ],
   "source": [
    "from sklearn.model_selection import cross_val_score\n",
    "scores = cross_val_score(clf, X_train_converted, y_train, cv=3)\n",
    "print(\"Accuracy: %0.2f (+/- %0.2f)\" % (scores.mean(), scores.std() * 2))"
   ]
  },
  {
   "cell_type": "code",
   "execution_count": 46,
   "metadata": {
    "collapsed": false
   },
   "outputs": [
    {
     "ename": "TypeError",
     "evalue": "sparse matrix length is ambiguous; use getnnz() or shape[0]",
     "output_type": "error",
     "traceback": [
      "\u001b[0;31m---------------------------------------------------------------------------\u001b[0m",
      "\u001b[0;31mTypeError\u001b[0m                                 Traceback (most recent call last)",
      "\u001b[0;32m<ipython-input-46-e27c18728990>\u001b[0m in \u001b[0;36m<module>\u001b[0;34m()\u001b[0m\n\u001b[1;32m      2\u001b[0m \u001b[0mcategories\u001b[0m \u001b[0;34m=\u001b[0m \u001b[0;34m{\u001b[0m\u001b[0;34m}\u001b[0m\u001b[0;34m\u001b[0m\u001b[0m\n\u001b[1;32m      3\u001b[0m \u001b[0mlist_of_word_counts\u001b[0m \u001b[0;34m=\u001b[0m \u001b[0;34m{\u001b[0m\u001b[0;34m}\u001b[0m\u001b[0;34m\u001b[0m\u001b[0m\n\u001b[0;32m----> 4\u001b[0;31m \u001b[0;32mfor\u001b[0m \u001b[0mi\u001b[0m \u001b[0;32min\u001b[0m \u001b[0mrange\u001b[0m\u001b[0;34m(\u001b[0m\u001b[0;36m0\u001b[0m\u001b[0;34m,\u001b[0m\u001b[0mlen\u001b[0m\u001b[0;34m(\u001b[0m\u001b[0mX_train_converted\u001b[0m\u001b[0;34m)\u001b[0m\u001b[0;34m)\u001b[0m\u001b[0;34m:\u001b[0m\u001b[0;34m\u001b[0m\u001b[0m\n\u001b[0m\u001b[1;32m      5\u001b[0m     \u001b[0mcategory\u001b[0m \u001b[0;34m=\u001b[0m \u001b[0my_train\u001b[0m\u001b[0;34m[\u001b[0m\u001b[0mi\u001b[0m\u001b[0;34m]\u001b[0m\u001b[0;34m\u001b[0m\u001b[0m\n\u001b[1;32m      6\u001b[0m     \u001b[0mwords\u001b[0m \u001b[0;34m=\u001b[0m \u001b[0mX_train_converted\u001b[0m\u001b[0;34m[\u001b[0m\u001b[0mi\u001b[0m\u001b[0;34m]\u001b[0m\u001b[0;34m\u001b[0m\u001b[0m\n",
      "\u001b[0;32m/Library/Frameworks/Python.framework/Versions/2.7/lib/python2.7/site-packages/scipy/sparse/base.pyc\u001b[0m in \u001b[0;36m__len__\u001b[0;34m(self)\u001b[0m\n\u001b[1;32m    264\u001b[0m     \u001b[0;31m# non-zeros is more important.  For now, raise an exception!\u001b[0m\u001b[0;34m\u001b[0m\u001b[0;34m\u001b[0m\u001b[0m\n\u001b[1;32m    265\u001b[0m     \u001b[0;32mdef\u001b[0m \u001b[0m__len__\u001b[0m\u001b[0;34m(\u001b[0m\u001b[0mself\u001b[0m\u001b[0;34m)\u001b[0m\u001b[0;34m:\u001b[0m\u001b[0;34m\u001b[0m\u001b[0m\n\u001b[0;32m--> 266\u001b[0;31m         raise TypeError(\"sparse matrix length is ambiguous; use getnnz()\"\n\u001b[0m\u001b[1;32m    267\u001b[0m                         \" or shape[0]\")\n\u001b[1;32m    268\u001b[0m \u001b[0;34m\u001b[0m\u001b[0m\n",
      "\u001b[0;31mTypeError\u001b[0m: sparse matrix length is ambiguous; use getnnz() or shape[0]"
     ]
    }
   ],
   "source": [
    "features = vectorizer.get_feature_names()\n",
    "categories = {}\n",
    "list_of_word_counts = {}\n",
    "for i in range(0,len(X_train)):\n",
    "    category = y_train[i]\n",
    "    words = X_train_converted[i]\n",
    "    if category in categories:\n",
    "        current = categories[category].copy()\n",
    "        for c in range(0, len(words)):\n",
    "            current[c] += words[c]\n",
    "        categories[category] = current\n",
    "    else:\n",
    "        current = words\n",
    "print(categories)"
   ]
  },
  {
   "cell_type": "code",
   "execution_count": null,
   "metadata": {
    "collapsed": true
   },
   "outputs": [],
   "source": []
  }
 ],
 "metadata": {
  "kernelspec": {
   "display_name": "Python 2",
   "language": "python",
   "name": "python2"
  },
  "language_info": {
   "codemirror_mode": {
    "name": "ipython",
    "version": 2
   },
   "file_extension": ".py",
   "mimetype": "text/x-python",
   "name": "python",
   "nbconvert_exporter": "python",
   "pygments_lexer": "ipython2",
   "version": "2.7.10"
  }
 },
 "nbformat": 4,
 "nbformat_minor": 1
}
