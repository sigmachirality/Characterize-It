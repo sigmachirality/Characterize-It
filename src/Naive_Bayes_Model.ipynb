{
 "cells": [
  {
   "cell_type": "code",
   "execution_count": 69,
   "metadata": {
    "collapsed": false
   },
   "outputs": [
    {
     "name": "stdout",
     "output_type": "stream",
     "text": [
      "([['Anger', 'Stoicism', 'Strength', 'Feirce', 'Tenacious', 'Bold', 'Clawed', 'Strong', 'Invincible'], ['excitement', 'awe', 'inspiration', 'powerful', 'noble', 'strong', 'beared', 'muscular', 'armed'], ['excitement', 'awe', 'happiness', 'powerful', 'bold', 'fierce', 'rock-like', 'large', 'orange'], ['angry', 'upset', 'displeased', 'aggressive', 'violent', 'assertive', 'buff', 'stony', 'strong'], ['thoughtful', 'knowing', 'old', 'smart', 'wise', 'stretchy', 'creepy', 'old', 'bearded']], ['Male Characters', 'Male Characters', 'Male Characters', 'Male Characters', 'Male Characters'])\n",
      "['Anger', 'Stoicism', 'Strength', 'Feirce', 'Tenacious']\n"
     ]
    }
   ],
   "source": [
    "#Parse data\n",
    "import pandas as pd\n",
    "import sys\n",
    "import csv\n",
    "\n",
    "def download_corpus(infile):\n",
    "\n",
    "    # read in input file, adjective dictionary\n",
    "    inp = pd.read_csv(infile)\n",
    "    #adj_dictionary = pd.read_csv(\"adj.txt\", names=['adj'])['adj'].tolist()\n",
    "    #dictionary = [x.lower() for x in adj_dictionary if x == x]\n",
    "    original = pd.read_csv(\"../data/scraped/marvel-wikia-data-images.csv\")\n",
    "    character_dict = {}\n",
    "    X_train = []\n",
    "    y_train = []\n",
    "    for _, row in original.iterrows():\n",
    "        character_dict[row[\"imgurl\"]] = row\n",
    "    for _, row in inp.iterrows():\n",
    "        if row[\"Input.image_url\"] in character_dict:\n",
    "            X_item = row[[\"Answer.emot0\", \"Answer.emot1\", \"Answer.emot2\", \"Answer.pers0\", \"Answer.pers1\", \"Answer.pers2\", \"Answer.phys0\", \"Answer.phys1\", \"Answer.phys2\"]]\n",
    "            X_train.append(X_item.tolist())\n",
    "            y_train.append(character_dict[row[\"Input.image_url\"]][\"SEX\"])\n",
    "            #print(character_dict[row[\"Input.image_url\"]])\n",
    "            \n",
    "        #print row\n",
    "    return X_train, y_train\n",
    "X_train, y_train = download_corpus(\"../data/results/4_28-sandbox-batch-results.csv\")\n",
    "print(X_train[0:5], y_train[0:5])\n",
    "corpus = [i for sublist in X_train for i in sublist]\n",
    "print(corpus[0:5])"
   ]
  },
  {
   "cell_type": "code",
   "execution_count": 62,
   "metadata": {
    "collapsed": true
   },
   "outputs": [],
   "source": [
    "from sklearn.feature_extraction.text import CountVectorizer"
   ]
  },
  {
   "cell_type": "code",
   "execution_count": 70,
   "metadata": {
    "collapsed": false
   },
   "outputs": [],
   "source": [
    "X_train_sentence = []\n",
    "for item in X_train:\n",
    "    X_row = \"\"\n",
    "    for i in item:\n",
    "        X_row += \" \" + i + \" \"\n",
    "    X_train_sentence.append(X_row)\n",
    "vectorizer = CountVectorizer()\n",
    "model = vectorizer.fit(X_train_sentence)"
   ]
  },
  {
   "cell_type": "code",
   "execution_count": 71,
   "metadata": {
    "collapsed": false
   },
   "outputs": [],
   "source": [
    "#print(X_train_sentence[0])\n",
    "X_train_converted = model.transform(X_train_sentence)\n"
   ]
  },
  {
   "cell_type": "code",
   "execution_count": 72,
   "metadata": {
    "collapsed": false
   },
   "outputs": [
    {
     "data": {
      "text/plain": [
       "MultinomialNB(alpha=1.0, class_prior=None, fit_prior=True)"
      ]
     },
     "execution_count": 72,
     "metadata": {},
     "output_type": "execute_result"
    }
   ],
   "source": [
    "from sklearn.naive_bayes import MultinomialNB\n",
    "clf = MultinomialNB()\n",
    "\n",
    "clf.fit(X_train_converted, y_train)"
   ]
  },
  {
   "cell_type": "code",
   "execution_count": 73,
   "metadata": {
    "collapsed": false
   },
   "outputs": [
    {
     "data": {
      "text/plain": [
       "0.9609756097560975"
      ]
     },
     "execution_count": 73,
     "metadata": {},
     "output_type": "execute_result"
    }
   ],
   "source": [
    "y_pred = clf.predict(X_train_converted)\n",
    "from sklearn.metrics import accuracy_score\n",
    "accuracy_score(y_train, y_pred)"
   ]
  },
  {
   "cell_type": "code",
   "execution_count": 74,
   "metadata": {
    "collapsed": false
   },
   "outputs": [
    {
     "name": "stdout",
     "output_type": "stream",
     "text": [
      "Accuracy: 0.69 (+/- 0.05)\n"
     ]
    },
    {
     "name": "stderr",
     "output_type": "stream",
     "text": [
      "/Library/Frameworks/Python.framework/Versions/2.7/lib/python2.7/site-packages/sklearn/model_selection/_split.py:652: Warning: The least populated class in y has only 1 members, which is too few. The minimum number of members in any class cannot be less than n_splits=3.\n",
      "  % (min_groups, self.n_splits)), Warning)\n"
     ]
    }
   ],
   "source": [
    "from sklearn.model_selection import cross_val_score\n",
    "scores = cross_val_score(clf, X_train_converted, y_train, cv=3)\n",
    "print(\"Accuracy: %0.2f (+/- %0.2f)\" % (scores.mean(), scores.std() * 2))"
   ]
  },
  {
   "cell_type": "code",
   "execution_count": 75,
   "metadata": {
    "collapsed": false
   },
   "outputs": [
    {
     "name": "stdout",
     "output_type": "stream",
     "text": [
      "Genderfluid Characters\n",
      "[(1, u'brave'), (1, u'green'), (1, u'inspired'), (1, u'manly'), (1, u'powerful'), (1, u'scared'), (1, u'tough'), (1, u'viking'), (1, u'worried'), (0, u'abrasive')]\n",
      "Male Characters\n",
      "[(55, u'strong'), (50, u'angry'), (38, u'fear'), (30, u'powerful'), (28, u'evil'), (27, u'mean'), (22, u'determined'), (21, u'excitement'), (21, u'muscular'), (16, u'awe')]\n",
      "Female Characters\n",
      "[(19, u'strong'), (13, u'angry'), (12, u'fear'), (11, u'happy'), (10, u'powerful'), (10, u'pretty'), (8, u'cool'), (8, u'evil'), (8, u'red'), (7, u'awe')]\n"
     ]
    }
   ],
   "source": [
    "from numpy import argmax\n",
    "features = vectorizer.get_feature_names()\n",
    "categories = {}\n",
    "list_of_word_counts = {}\n",
    "for i in range(0,len(X_train)):\n",
    "    category = y_train[i]\n",
    "    words = X_train_converted.toarray()[i]\n",
    "    if category in categories:\n",
    "        current = categories[category].copy()\n",
    "        for c in range(0, len(words)):\n",
    "            current[c] += words[c]\n",
    "        categories[category] = current\n",
    "    else:\n",
    "        categories[category] = words\n",
    "for key in categories.keys():\n",
    "    l = categories[key]\n",
    "    words = []\n",
    "    for i in range(10):\n",
    "        highest = argmax(l)\n",
    "        words.append((l[highest], features[highest]))\n",
    "        l[highest] = -1\n",
    "    print(key)\n",
    "    print(words)"
   ]
  },
  {
   "cell_type": "code",
   "execution_count": null,
   "metadata": {
    "collapsed": true
   },
   "outputs": [],
   "source": []
  }
 ],
 "metadata": {
  "kernelspec": {
   "display_name": "Python 2",
   "language": "python",
   "name": "python2"
  },
  "language_info": {
   "codemirror_mode": {
    "name": "ipython",
    "version": 2
   },
   "file_extension": ".py",
   "mimetype": "text/x-python",
   "name": "python",
   "nbconvert_exporter": "python",
   "pygments_lexer": "ipython2",
   "version": "2.7.10"
  }
 },
 "nbformat": 4,
 "nbformat_minor": 1
}
