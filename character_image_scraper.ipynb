{
  "nbformat": 4,
  "nbformat_minor": 0,
  "metadata": {
    "colab": {
      "name": "character-image-scraper",
      "version": "0.3.2",
      "provenance": [],
      "include_colab_link": true
    },
    "kernelspec": {
      "name": "python3",
      "display_name": "Python 3"
    },
    "accelerator": "GPU"
  },
  "cells": [
    {
      "cell_type": "markdown",
      "metadata": {
        "id": "view-in-github",
        "colab_type": "text"
      },
      "source": [
        "<a href=\"https://colab.research.google.com/github/sigmachirality/Characterize-It/blob/master/character_image_scraper.ipynb\" target=\"_parent\"><img src=\"https://colab.research.google.com/assets/colab-badge.svg\" alt=\"Open In Colab\"/></a>"
      ]
    },
    {
      "metadata": {
        "id": "0Okn1Gyi4k7H",
        "colab_type": "text"
      },
      "cell_type": "markdown",
      "source": [
        "#  Fandom Wiki Image Scraper"
      ]
    },
    {
      "metadata": {
        "id": "Dz6c5u8r4MBS",
        "colab_type": "text"
      },
      "cell_type": "markdown",
      "source": [
        "This image scraper takes in csv data on comic book characters found [here](https://github.com/fivethirtyeight/data/tree/master/comic-characters?fbclid=IwAR3E4SZhriNyf93GylPMK3XJ94QWhSnmXY-KaEzyCBOyu2r_5SKBs-FLJj4), and appends a column of links to images of each character.\n",
        "\n",
        "First, we import the necessary dependencies and csv files."
      ]
    },
    {
      "metadata": {
        "id": "3KhdF0G_5ZQL",
        "colab_type": "code",
        "colab": {}
      },
      "cell_type": "code",
      "source": [
        "#Import and/or install dependencies\n",
        "from bs4 import BeautifulSoup as bs\n",
        "import pandas as pd\n",
        "import numpy as np\n",
        "from requests import get"
      ],
      "execution_count": 0,
      "outputs": []
    },
    {
      "metadata": {
        "id": "_PHk8_zv4zKZ",
        "colab_type": "code",
        "colab": {}
      },
      "cell_type": "code",
      "source": [
        "#Import csv as dataframes\n",
        "dc_csv_url = 'https://raw.githubusercontent.com/fivethirtyeight/data/master/comic-characters/dc-wikia-data.csv'\n",
        "mr_csv_url = 'https://raw.githubusercontent.com/fivethirtyeight/data/master/comic-characters/marvel-wikia-data.csv'\n",
        "\n",
        "dcDF = pd.read_csv(dc_csv_url)\n",
        "mrDF = pd.read_csv(mr_csv_url)"
      ],
      "execution_count": 0,
      "outputs": []
    },
    {
      "metadata": {
        "id": "2rjflHbQ5vao",
        "colab_type": "text"
      },
      "cell_type": "markdown",
      "source": [
        "Next, we iterate over each row in each dataframe, building a list of image urls while doing so."
      ]
    },
    {
      "metadata": {
        "id": "JKJD3t3-6h9T",
        "colab_type": "code",
        "colab": {}
      },
      "cell_type": "code",
      "source": [
        "#Function to get image from Wikia page, given link to page\n",
        "def get_image_url(url):\n",
        "  response = get(url)\n",
        "  soup = bs(response.text, 'html.parser')\n",
        "  for image in soup.findAll('img', {\"class\": 'pi-image-thumbnail'}):\n",
        "    return(image.get('src'))"
      ],
      "execution_count": 0,
      "outputs": []
    },
    {
      "metadata": {
        "id": "5Rl1N8LH8QSg",
        "colab_type": "code",
        "colab": {}
      },
      "cell_type": "code",
      "source": [
        "#Base URL of both sites\n",
        "dc_base = \"https://dc.fandom.com\"\n",
        "mr_base = \"https://marvel.fandom.com\"\n",
        "dc_images = [get_image_url(dc_base + c[\"urlslug\"].replace(\"\\\\\", \"\")) for _, c in dcDF.iterrows()]\n",
        "mr_images = [get_image_url(mr_base + c[\"urlslug\"].replace(\"\\\\\", \"\")) for _, c in mrDF.iterrows()]"
      ],
      "execution_count": 0,
      "outputs": []
    },
    {
      "metadata": {
        "id": "A32HtN8iCp0n",
        "colab_type": "text"
      },
      "cell_type": "markdown",
      "source": [
        "Finally, we add these new columns to our dataframes, save the csvs, and then (if we're working on Collab) download them."
      ]
    },
    {
      "metadata": {
        "id": "Kb_Mtk1WCvMl",
        "colab_type": "code",
        "colab": {}
      },
      "cell_type": "code",
      "source": [
        "dcDF[\"imgurl\"] = dc_images\n",
        "mrDF[\"imgurl\"] = mr_images\n",
        "dcDF.to_csv(\"dc-wikia-data-images.csv\", index=False)\n",
        "mrDF.to_csv(\"marvel-wikia-data-images.csv\", index=False)"
      ],
      "execution_count": 0,
      "outputs": []
    },
    {
      "metadata": {
        "id": "GFoHqNyhDXEs",
        "colab_type": "code",
        "colab": {}
      },
      "cell_type": "code",
      "source": [
        "from google.colab import files\n",
        "files.download('dc-wikia-data-images.csv')\n",
        "files.download('marvel-wikia-data-images.csv')"
      ],
      "execution_count": 0,
      "outputs": []
    }
  ]
}